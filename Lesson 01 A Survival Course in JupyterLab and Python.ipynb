{
 "cells": [
  {
   "cell_type": "markdown",
   "metadata": {
    "editable": true,
    "slideshow": {
     "slide_type": ""
    },
    "tags": []
   },
   "source": [
    "**SA433 &#x25aa; Data Wrangling and Visualization &#x25aa; Fall 2025**"
   ]
  },
  {
   "cell_type": "markdown",
   "metadata": {
    "editable": true,
    "slideshow": {
     "slide_type": ""
    },
    "tags": []
   },
   "source": [
    "# Lesson 1. A Survival Course in JupyterLab and Python"
   ]
  },
  {
   "cell_type": "markdown",
   "metadata": {
    "editable": true,
    "slideshow": {
     "slide_type": ""
    },
    "tags": []
   },
   "source": [
    "❗️ This notebook assumes that you're using JupyterLab 4.0."
   ]
  },
  {
   "cell_type": "markdown",
   "metadata": {
    "editable": true,
    "slideshow": {
     "slide_type": ""
    },
    "tags": []
   },
   "source": [
    "## What is JupyterLab?"
   ]
  },
  {
   "cell_type": "markdown",
   "metadata": {
    "editable": true,
    "slideshow": {
     "slide_type": ""
    },
    "tags": []
   },
   "source": [
    "* [__JupyterLab__](https://jupyter.org/) is an interactive computational environment where you can combine code, text and graphs in __notebooks__\n",
    "\n",
    "\n",
    "* You're looking at a Jupyter notebook right now!\n",
    "\n",
    "\n",
    "* We'll be using JupyterLab with the __Python__ programming language in this course"
   ]
  },
  {
   "cell_type": "markdown",
   "metadata": {
    "editable": true,
    "slideshow": {
     "slide_type": ""
    },
    "tags": []
   },
   "source": [
    "## Structure of a notebook document"
   ]
  },
  {
   "cell_type": "markdown",
   "metadata": {
    "editable": true,
    "slideshow": {
     "slide_type": ""
    },
    "tags": []
   },
   "source": [
    "* A notebook consists of a sequence of __cells__ of different types"
   ]
  },
  {
   "cell_type": "markdown",
   "metadata": {
    "editable": true,
    "slideshow": {
     "slide_type": ""
    },
    "tags": []
   },
   "source": [
    "* We'll use two types of cells frequently:\n",
    "    * code cells\n",
    "    * Markdown cells"
   ]
  },
  {
   "cell_type": "markdown",
   "metadata": {
    "editable": true,
    "slideshow": {
     "slide_type": ""
    },
    "tags": []
   },
   "source": [
    "* You can determine the type of a cell in the toolbar"
   ]
  },
  {
   "cell_type": "markdown",
   "metadata": {
    "editable": true,
    "slideshow": {
     "slide_type": ""
    },
    "tags": []
   },
   "source": [
    "* You can run a cell by:\n",
    "    * clicking the <kbd><i class=\"fa fa-play\" aria-hidden=\"true\"></i></kbd> button in the toolbar\n",
    "    * selecting __Run &#8594; Run Selected Cell__ in the menu bar\n",
    "    * pressing <kbd>Shift</kbd>-<kbd>Enter</kbd>"
   ]
  },
  {
   "cell_type": "markdown",
   "metadata": {
    "editable": true,
    "slideshow": {
     "slide_type": ""
    },
    "tags": []
   },
   "source": [
    "## Code cells"
   ]
  },
  {
   "cell_type": "markdown",
   "metadata": {
    "editable": true,
    "slideshow": {
     "slide_type": ""
    },
    "tags": []
   },
   "source": [
    "* In a __code cell__, you can edit and write Python code\n",
    "    * We'll talk about Python shortly"
   ]
  },
  {
   "cell_type": "markdown",
   "metadata": {
    "editable": true,
    "slideshow": {
     "slide_type": ""
    },
    "tags": []
   },
   "source": [
    "* For now, we can use a code cell as a fancy calculator\n",
    "\n",
    "\n",
    "* For example, in the code cell below, let's compute\n",
    "$$ \\frac{2^{5} - 368}{23 + 18} $$"
   ]
  },
  {
   "cell_type": "code",
   "execution_count": null,
   "metadata": {
    "editable": true,
    "slideshow": {
     "slide_type": ""
    },
    "tags": []
   },
   "outputs": [],
   "source": []
  },
  {
   "cell_type": "markdown",
   "metadata": {
    "editable": true,
    "slideshow": {
     "slide_type": ""
    },
    "tags": []
   },
   "source": [
    "* Note that a code cell has \n",
    "    * an __input__ section containing your code\n",
    "    * an __output__ section after executing the cell"
   ]
  },
  {
   "cell_type": "markdown",
   "metadata": {
    "editable": true,
    "slideshow": {
     "slide_type": ""
    },
    "tags": []
   },
   "source": [
    "## Markdown cells"
   ]
  },
  {
   "cell_type": "markdown",
   "metadata": {
    "editable": true,
    "slideshow": {
     "slide_type": ""
    },
    "tags": []
   },
   "source": [
    "* In a __Markdown cell__, you can enter text to write notes about your code and document your workflow\n",
    "\n",
    "\n",
    "* For example, this cell is a Markdown cell\n",
    "\n",
    "\n",
    "* The __Markdown__ language is a popular way to provide formatting (e.g. bold, italics, lists) to plain text\n",
    "    * Use Google to find documentation and tutorials. [Here's a pretty good cheat sheet.](https://github.com/adam-p/markdown-here/wiki/Markdown-Cheatsheet)"
   ]
  },
  {
   "cell_type": "markdown",
   "metadata": {
    "editable": true,
    "slideshow": {
     "slide_type": ""
    },
    "tags": []
   },
   "source": [
    "* For now, here are a few basic, useful Markdown constructs:\n",
    "\n",
    "```\n",
    "You can format text as italic with *asterisks* or _underscores_.\n",
    "\n",
    "You can format text as bold with **double asterisks** or __double underscores__.\n",
    "\n",
    "To write an bulleted list, use *, -, or + as bullets, like this:\n",
    "\n",
    "* One\n",
    "* Two\n",
    "* Three\n",
    "```\n",
    "\n",
    "\n",
    "* To edit a Markdown cell, double-click it \n",
    "\n",
    "\n",
    "* When you're done editing it, run the cell\n",
    "\n",
    "\n",
    "* Try it in the cell below:"
   ]
  },
  {
   "cell_type": "markdown",
   "metadata": {},
   "source": [
    "*Double-click to edit this cell. Try out Markdown here.*"
   ]
  },
  {
   "cell_type": "markdown",
   "metadata": {},
   "source": [
    "## Manipulating cells"
   ]
  },
  {
   "cell_type": "markdown",
   "metadata": {
    "editable": true,
    "slideshow": {
     "slide_type": ""
    },
    "tags": []
   },
   "source": [
    "* You can insert a new cell by clicking the <kbd>+</kbd> button in the toolbar\n",
    "\n",
    "\n",
    "* You can copy and paste cells using the __Edit__ menu\n",
    "\n",
    "\n",
    "* You can also split, merge, move, and delete cells using the __Edit__ menu\n",
    "\n",
    "\n",
    "* You can also move cells around with your mouse: click on the left part of a cell and drag it to where you want it"
   ]
  },
  {
   "cell_type": "markdown",
   "metadata": {},
   "source": [
    "## Saving your notebook"
   ]
  },
  {
   "cell_type": "markdown",
   "metadata": {
    "editable": true,
    "slideshow": {
     "slide_type": ""
    },
    "tags": []
   },
   "source": [
    "* JupyterLab autosaves your notebook every few minutes\n",
    "    * Check __Settings &#8594; Autosave Documents__ to make sure this setting is turned on"
   ]
  },
  {
   "cell_type": "markdown",
   "metadata": {
    "editable": true,
    "slideshow": {
     "slide_type": ""
    },
    "tags": []
   },
   "source": [
    "* To manually save, click the <kbd><i class=\"fa fa-floppy-o\"></i></kbd> icon, or select __File &#8594; Save Notebook__\n",
    "\n",
    "\n",
    "* When you're done, you can shut down JupyterLab by selecting __File &#8594; Shut Down__"
   ]
  },
  {
   "cell_type": "markdown",
   "metadata": {},
   "source": [
    "## Moving on..."
   ]
  },
  {
   "cell_type": "markdown",
   "metadata": {
    "editable": true,
    "slideshow": {
     "slide_type": ""
    },
    "tags": []
   },
   "source": [
    "* We'll go over some other features of JupyterLab later\n",
    "\n",
    "\n",
    "* [The official documentation is here](https://jupyterlab.readthedocs.io/)\n",
    "\n",
    "\n",
    "* There are many resources out there on using Jupyter notebooks &mdash; Google is your friend!"
   ]
  },
  {
   "cell_type": "markdown",
   "metadata": {},
   "source": [
    "<hr style=\"border-top: 2px solid gray; margin-top: 1px; margin-bottom: 1px\"></hr>"
   ]
  },
  {
   "cell_type": "markdown",
   "metadata": {},
   "source": [
    "## What is Python?"
   ]
  },
  {
   "cell_type": "markdown",
   "metadata": {},
   "source": [
    "* __Python__ is a *free*, open-source, general-purpose programming language"
   ]
  },
  {
   "cell_type": "markdown",
   "metadata": {},
   "source": [
    "* Python is popular and used everywhere &mdash; a few examples:\n",
    "    - [Automation, monitoring, data science, and more at Netflix](https://medium.com/netflix-techblog/python-at-netflix-86b6028b3b3e)\n",
    "    - [Analysis of historical texts](https://digitalorientalist.com/2019/07/01/making-a-basic-textual-analysis-program-in-python/)"
   ]
  },
  {
   "cell_type": "markdown",
   "metadata": {},
   "source": [
    "* Python is \"beautiful\": its syntax was designed with an emphasis on readability\n",
    "\n",
    "\n",
    "* Python has become the language of choice for data science and machine learning\n",
    "\n",
    "\n",
    "* _Side note._ Even if you're familiar with other programming languages, having exposure to multiple programming languages will be very useful to you as a {data scientist, operations researcher, quantitative analyst, statistician, economist, etc.}"
   ]
  },
  {
   "cell_type": "markdown",
   "metadata": {},
   "source": [
    "## Python basics"
   ]
  },
  {
   "cell_type": "markdown",
   "metadata": {
    "editable": true,
    "slideshow": {
     "slide_type": ""
    },
    "tags": []
   },
   "source": [
    "* In this lesson, we will review some basic Python concepts\n",
    "\n",
    "\n",
    "* There is a wealth of information on Python on the web!\n",
    "\n",
    "\n",
    "* [Here is the documentation for the latest version of Python](https://docs.python.org/)"
   ]
  },
  {
   "cell_type": "markdown",
   "metadata": {
    "editable": true,
    "slideshow": {
     "slide_type": ""
    },
    "tags": []
   },
   "source": [
    "## Fancy calculator"
   ]
  },
  {
   "cell_type": "markdown",
   "metadata": {
    "editable": true,
    "slideshow": {
     "slide_type": ""
    },
    "tags": []
   },
   "source": [
    "* You can define a variable using the `=` sign\n",
    "\n",
    "\n",
    "* You can perform arithmetic operations on variables\n",
    "\n",
    "\n",
    "* You can print the value of a variable using the `print()` function"
   ]
  },
  {
   "cell_type": "markdown",
   "metadata": {
    "editable": true,
    "slideshow": {
     "slide_type": ""
    },
    "tags": []
   },
   "source": [
    "* For example, in the cell below, let's:\n",
    "    - define two variables representing the dimensions of a rectangle\n",
    "    - compute the area of this rectangle\n",
    "    - print the area of this rectangle"
   ]
  },
  {
   "cell_type": "markdown",
   "metadata": {
    "editable": true,
    "slideshow": {
     "slide_type": ""
    },
    "tags": []
   },
   "source": [
    "* Don't forget to run the cell when you're done!    "
   ]
  },
  {
   "cell_type": "code",
   "execution_count": null,
   "metadata": {
    "editable": true,
    "slideshow": {
     "slide_type": ""
    },
    "tags": []
   },
   "outputs": [],
   "source": []
  },
  {
   "cell_type": "markdown",
   "metadata": {},
   "source": [
    "* If you try to access a variable you haven't yet defined, Python will complain\n",
    "\n",
    "\n",
    "* For example, if we try to print the value of the variable `volume`:"
   ]
  },
  {
   "cell_type": "code",
   "execution_count": null,
   "metadata": {},
   "outputs": [],
   "source": [
    "print(volume)"
   ]
  },
  {
   "cell_type": "markdown",
   "metadata": {},
   "source": [
    "* Note that variable definitions are persistent across cells"
   ]
  },
  {
   "cell_type": "markdown",
   "metadata": {},
   "source": [
    "* For example, in the cell below, let's:\n",
    "    - define the height of a box\n",
    "    - compute the volume of this box, using the length and width we defined in the cell above\n",
    "    - print the volume of this box"
   ]
  },
  {
   "cell_type": "code",
   "execution_count": null,
   "metadata": {
    "editable": true,
    "slideshow": {
     "slide_type": ""
    },
    "tags": []
   },
   "outputs": [],
   "source": []
  },
  {
   "cell_type": "markdown",
   "metadata": {},
   "source": [
    "* Note that the __prompt numbers__ next to the code cells (e.g. `[3]`) indicate which cells have been run and *in which order*\n",
    "\n",
    "\n",
    "* This is very useful, especially if you are running cells out-of-sequence"
   ]
  },
  {
   "cell_type": "markdown",
   "metadata": {},
   "source": [
    "## Hello, world!"
   ]
  },
  {
   "cell_type": "markdown",
   "metadata": {},
   "source": [
    "* __Strings__ are sequences of printable characters defined using either double quotes or single quotes\n",
    "\n",
    "\n",
    "* Just like with variables, to print a string, you can use the `print()` function, like this:"
   ]
  },
  {
   "cell_type": "code",
   "execution_count": null,
   "metadata": {},
   "outputs": [],
   "source": []
  },
  {
   "cell_type": "markdown",
   "metadata": {
    "editable": true,
    "slideshow": {
     "slide_type": ""
    },
    "tags": []
   },
   "source": [
    "* To insert a variable's value into a string:\n",
    "    - place the letter `f` immediately before the opening quotation mark\n",
    "    - put braces `{}` around the names of any variables you want to use inside the string"
   ]
  },
  {
   "cell_type": "markdown",
   "metadata": {
    "editable": true,
    "slideshow": {
     "slide_type": ""
    },
    "tags": []
   },
   "source": [
    "* These strings are called __f-strings__"
   ]
  },
  {
   "cell_type": "markdown",
   "metadata": {
    "editable": true,
    "slideshow": {
     "slide_type": ""
    },
    "tags": []
   },
   "source": [
    "* For example, in the cell below, let's:\n",
    "    - define a variable for your neighbor's name\n",
    "    - print a sentence containing your neighbor's name"
   ]
  },
  {
   "cell_type": "code",
   "execution_count": null,
   "metadata": {},
   "outputs": [],
   "source": []
  },
  {
   "cell_type": "markdown",
   "metadata": {
    "tags": []
   },
   "source": [
    "* More generally, f-strings can also be used to insert the value of a Python expression, like this:"
   ]
  },
  {
   "cell_type": "code",
   "execution_count": null,
   "metadata": {},
   "outputs": [],
   "source": [
    "print(f'Two plus two is equal to {2 + 2}.')"
   ]
  },
  {
   "cell_type": "markdown",
   "metadata": {},
   "source": [
    "* Strings, like many **objects** in Python, have associated **methods** that do something to the string\n",
    "\n",
    "\n",
    "* For example, consider the following example string:"
   ]
  },
  {
   "cell_type": "code",
   "execution_count": null,
   "metadata": {},
   "outputs": [],
   "source": [
    "example = 'the quick brown fox jumped over the lazy dog.'"
   ]
  },
  {
   "cell_type": "markdown",
   "metadata": {},
   "source": [
    "* We can apply the `.upper()` method to return the same string, but in all uppercase:"
   ]
  },
  {
   "cell_type": "code",
   "execution_count": null,
   "metadata": {},
   "outputs": [],
   "source": []
  },
  {
   "cell_type": "markdown",
   "metadata": {},
   "source": [
    "* Similarly, we can apply the `.title()` method to return the same string, but in title case:"
   ]
  },
  {
   "cell_type": "code",
   "execution_count": null,
   "metadata": {},
   "outputs": [],
   "source": []
  },
  {
   "cell_type": "markdown",
   "metadata": {},
   "source": [
    "* We can replace certain phrases with another specified phrase using the `.replace()` method:"
   ]
  },
  {
   "cell_type": "code",
   "execution_count": null,
   "metadata": {},
   "outputs": [],
   "source": []
  },
  {
   "cell_type": "markdown",
   "metadata": {},
   "source": [
    "## Lists"
   ]
  },
  {
   "cell_type": "markdown",
   "metadata": {},
   "source": [
    "* A __list__ is a collection of items that are organized in a particular order\n",
    "\n",
    "\n",
    "* You can think of a list as an array or a vector\n",
    "\n",
    "\n",
    "* A list is written as a sequence of comma-separated items between square brackets, like this:"
   ]
  },
  {
   "cell_type": "code",
   "execution_count": null,
   "metadata": {},
   "outputs": [],
   "source": [
    "# Define a list containing the first 5 square numbers\n",
    "squares = [0, 1, 4, 9, 16]\n",
    "\n",
    "# Define a list containing the days of the week\n",
    "days_of_the_week = ['Sun', 'Mon', 'Tue', 'Wed', 'Thu', 'Fri', 'Sat']"
   ]
  },
  {
   "cell_type": "markdown",
   "metadata": {
    "editable": true,
    "slideshow": {
     "slide_type": ""
    },
    "tags": []
   },
   "source": [
    "* To get the first item in `days_of_the_week`, we would write\n",
    "\n",
    "    ```python\n",
    "    days_of_the_week[0]\n",
    "    ```"
   ]
  },
  {
   "cell_type": "markdown",
   "metadata": {
    "editable": true,
    "slideshow": {
     "slide_type": ""
    },
    "tags": []
   },
   "source": [
    "* __In Python, indexing (that is, counting) starts at 0!__\n",
    "\n",
    "\n",
    "* So, we can get the third day of the week, like this:"
   ]
  },
  {
   "cell_type": "code",
   "execution_count": null,
   "metadata": {},
   "outputs": [],
   "source": []
  },
  {
   "cell_type": "markdown",
   "metadata": {},
   "source": [
    "- We can also grab consecutive items of a list through **slicing** &mdash; the code below grabs the first 4 items in `days_of_the_week`:\n",
    "\n",
    "    ```python\n",
    "    days_of_the_week[0:4]\n",
    "    ```"
   ]
  },
  {
   "cell_type": "markdown",
   "metadata": {
    "editable": true,
    "slideshow": {
     "slide_type": ""
    },
    "tags": []
   },
   "source": [
    "* So, we can get the last 3 days of the week, like this:"
   ]
  },
  {
   "cell_type": "code",
   "execution_count": null,
   "metadata": {},
   "outputs": [],
   "source": []
  },
  {
   "cell_type": "markdown",
   "metadata": {},
   "source": [
    "* We can add items to the end of a list using the `.append()` method\n",
    "\n",
    "\n",
    "* We can also print lists just like any other variable\n",
    "\n",
    "\n",
    "* Let's add the 6th squared number to the list `squares`:"
   ]
  },
  {
   "cell_type": "code",
   "execution_count": null,
   "metadata": {},
   "outputs": [],
   "source": []
  },
  {
   "cell_type": "markdown",
   "metadata": {},
   "source": [
    "* Let's check our work by printing the list:"
   ]
  },
  {
   "cell_type": "code",
   "execution_count": null,
   "metadata": {},
   "outputs": [],
   "source": []
  },
  {
   "cell_type": "markdown",
   "metadata": {},
   "source": [
    "* We can determine the length of a list using the `len()` function\n",
    "\n",
    "\n",
    "* For example, we can get the length of the list `days_of_the_week`, like this:"
   ]
  },
  {
   "cell_type": "code",
   "execution_count": null,
   "metadata": {},
   "outputs": [],
   "source": []
  },
  {
   "cell_type": "markdown",
   "metadata": {},
   "source": [
    "## Dictionaries"
   ]
  },
  {
   "cell_type": "markdown",
   "metadata": {
    "editable": true,
    "slideshow": {
     "slide_type": ""
    },
    "tags": []
   },
   "source": [
    "* A __dictionary__ is another way to organize a collection of items"
   ]
  },
  {
   "cell_type": "markdown",
   "metadata": {
    "editable": true,
    "slideshow": {
     "slide_type": ""
    },
    "tags": []
   },
   "source": [
    "* A dictionary maps __keys__ to __values__.\n",
    "    - Just like a real-world dictionary maps *words* to *definitions*"
   ]
  },
  {
   "cell_type": "markdown",
   "metadata": {
    "editable": true,
    "slideshow": {
     "slide_type": ""
    },
    "tags": []
   },
   "source": [
    "* We can create a dictionary by starting with an empty dictionary and adding key-value pairs, like this:"
   ]
  },
  {
   "cell_type": "code",
   "execution_count": null,
   "metadata": {},
   "outputs": [],
   "source": []
  },
  {
   "cell_type": "markdown",
   "metadata": {},
   "source": [
    "* You can also print dictionaries just like any other variable"
   ]
  },
  {
   "cell_type": "code",
   "execution_count": null,
   "metadata": {},
   "outputs": [],
   "source": []
  },
  {
   "cell_type": "markdown",
   "metadata": {},
   "source": [
    "* We can also create a dictionary by specifying the key-value pairs directly between braces `{}`:"
   ]
  },
  {
   "cell_type": "code",
   "execution_count": null,
   "metadata": {},
   "outputs": [],
   "source": []
  },
  {
   "cell_type": "markdown",
   "metadata": {},
   "source": [
    "* Similar to a list, we can use a key to look up the corresponding value in a dictionary, like this:"
   ]
  },
  {
   "cell_type": "code",
   "execution_count": null,
   "metadata": {},
   "outputs": [],
   "source": []
  },
  {
   "cell_type": "markdown",
   "metadata": {},
   "source": [
    "## Loops and nesting"
   ]
  },
  {
   "cell_type": "markdown",
   "metadata": {},
   "source": [
    "* We can iterate through lists using a `for` statement\n",
    "\n",
    "\n",
    "* For example, consider the following list, containing strings representing the months of the year:"
   ]
  },
  {
   "cell_type": "code",
   "execution_count": null,
   "metadata": {},
   "outputs": [],
   "source": [
    "months_of_the_year = [\"Jan\", \"Feb\", \"Mar\", \"Apr\", \"May\", \"Jun\", \"Jul\", \"Aug\", \"Sep\", \"Nov\", \"Dec\"]"
   ]
  },
  {
   "cell_type": "markdown",
   "metadata": {},
   "source": [
    "* We can print each string in this list, like this: "
   ]
  },
  {
   "cell_type": "code",
   "execution_count": null,
   "metadata": {},
   "outputs": [],
   "source": []
  },
  {
   "cell_type": "markdown",
   "metadata": {
    "editable": true,
    "slideshow": {
     "slide_type": ""
    },
    "tags": []
   },
   "source": [
    "* Python defines blocks of code using a __colon `:`__ followed by __indentation__\n",
    "\n",
    "\n",
    "* The code we wrote above is NOT the same as\n",
    "\n",
    "    ```python\n",
    "    for month in months_of_the_year:\n",
    "    print(month)\n",
    "    ```"
   ]
  },
  {
   "cell_type": "markdown",
   "metadata": {
    "editable": true,
    "slideshow": {
     "slide_type": ""
    },
    "tags": []
   },
   "source": [
    "* Always use the __Tab__ key to indent &mdash; this will keep your indentation consistent"
   ]
  },
  {
   "cell_type": "markdown",
   "metadata": {},
   "source": [
    "## If this, then that"
   ]
  },
  {
   "cell_type": "markdown",
   "metadata": {},
   "source": [
    "* The `==` operator performs __equality testing__: \n",
    "    - If the two items on either side of `==` are equal, then it returns `True`\n",
    "    - Otherwise, it returns `False`"
   ]
  },
  {
   "cell_type": "markdown",
   "metadata": {},
   "source": [
    "* For example, let's define the variable `today` to be the string `'Tuesday'`:    "
   ]
  },
  {
   "cell_type": "code",
   "execution_count": null,
   "metadata": {},
   "outputs": [],
   "source": [
    "today = 'Tuesday'"
   ]
  },
  {
   "cell_type": "markdown",
   "metadata": {},
   "source": [
    "* We can check if the variable `today` is equal to `'Tuesday'`, like this:"
   ]
  },
  {
   "cell_type": "code",
   "execution_count": null,
   "metadata": {},
   "outputs": [],
   "source": []
  },
  {
   "cell_type": "markdown",
   "metadata": {},
   "source": [
    "* Let's see what happens when we check if the variable `today` is equal to `'Friday'`:"
   ]
  },
  {
   "cell_type": "code",
   "execution_count": null,
   "metadata": {},
   "outputs": [],
   "source": []
  },
  {
   "cell_type": "markdown",
   "metadata": {},
   "source": [
    "* Conditional statements are written using the same block/indentation structure as `for` statements, using the keywords `if`, `elif`, and `else`"
   ]
  },
  {
   "cell_type": "code",
   "execution_count": null,
   "metadata": {},
   "outputs": [],
   "source": [
    "# Today is...\n",
    "today = 'Tuesday'\n",
    "\n",
    "# What should I do?\n",
    "if today == 'Friday':\n",
    "    print('Go out.')\n",
    "elif today == 'Saturday':\n",
    "    print('Have fun.')\n",
    "else:\n",
    "    print('Study.')"
   ]
  },
  {
   "cell_type": "markdown",
   "metadata": {},
   "source": [
    "* Other types of comparisons:\n",
    "\n",
    "| Comparison | Meaning |\n",
    "| :----------- | :-------- |\n",
    "| `==`         | equal  |\n",
    "| `!=`         | not equal |\n",
    "| `<`          | less than  |\n",
    "| `>`          | greater than |\n",
    "| `<=`         | less than or equal |\n",
    "| `>=`         | greater than or equal |"
   ]
  },
  {
   "cell_type": "markdown",
   "metadata": {},
   "source": [
    "<hr style=\"border-top: 2px solid gray; margin-top: 1px; margin-bottom: 1px\"></hr>"
   ]
  },
  {
   "cell_type": "markdown",
   "metadata": {},
   "source": [
    "## Useful JupyterLab features"
   ]
  },
  {
   "cell_type": "markdown",
   "metadata": {},
   "source": [
    "### Line numbers"
   ]
  },
  {
   "cell_type": "markdown",
   "metadata": {},
   "source": [
    "* Put line numbers in code cells by selecting __View &#8594; Show Line Numbers__"
   ]
  },
  {
   "cell_type": "markdown",
   "metadata": {},
   "source": [
    "### Indenting multiple lines"
   ]
  },
  {
   "cell_type": "markdown",
   "metadata": {},
   "source": [
    "* Highlight the lines you want to indent, and then press <kbd>Tab</kbd>\n",
    "\n",
    "\n",
    "* If you want to de-indent them (i.e., indent them to the left), press <kbd>Shift</kbd>+<kbd>Tab</kbd>"
   ]
  },
  {
   "cell_type": "code",
   "execution_count": null,
   "metadata": {},
   "outputs": [],
   "source": [
    "# Play around with indenting and de-indenting code.\n",
    "# Read the code in this cell. Make sure you understand what it does!\n",
    "student_names = ['Amy', 'Bob', 'Carol']\n",
    "for name in student_names:\n",
    "    print(f'The name of this student is {name}.')\n",
    "\n",
    "english_words = ['home', 'navy']\n",
    "spanish = {'home': 'casa', 'navy': 'armada', 'blue': 'azul'}\n",
    "\n",
    "for word in english_words:\n",
    "    print(f\"The Spanish word for {word} is {spanish[word]}.\")"
   ]
  },
  {
   "cell_type": "markdown",
   "metadata": {},
   "source": [
    "### Running multiple cells"
   ]
  },
  {
   "cell_type": "markdown",
   "metadata": {},
   "source": [
    "* You can run all the cells in a notebook by selecting __Run &#8594; Run All Cells__\n",
    "\n",
    "\n",
    "* You can run all the cells above the current cell by selecting __Run &#8594; Run All Above Selected Cell__\n",
    "\n",
    "\n",
    "* You can run the current cell and all below by selecting __Run &#8594; Run Selected Cell and All Below__"
   ]
  },
  {
   "cell_type": "markdown",
   "metadata": {},
   "source": [
    "### Clearing the output of code cells"
   ]
  },
  {
   "cell_type": "markdown",
   "metadata": {
    "editable": true,
    "slideshow": {
     "slide_type": ""
    },
    "tags": []
   },
   "source": [
    "* You can clear the output of a code cell by selecting __Edit &#8594; Clear Cell Output__\n",
    "\n",
    "\n",
    "* You can clear the output of all code cells by selecting __Edit &#8594; Clear Outputs of All Cells__"
   ]
  }
 ],
 "metadata": {
  "kernelspec": {
   "display_name": "Python 3 (ipykernel)",
   "language": "python",
   "name": "python3"
  },
  "language_info": {
   "codemirror_mode": {
    "name": "ipython",
    "version": 3
   },
   "file_extension": ".py",
   "mimetype": "text/x-python",
   "name": "python",
   "nbconvert_exporter": "python",
   "pygments_lexer": "ipython3",
   "version": "3.11.3"
  },
  "toc-autonumbering": false,
  "toc-showcode": false,
  "toc-showmarkdowntxt": false,
  "toc-showtags": false
 },
 "nbformat": 4,
 "nbformat_minor": 4
}
